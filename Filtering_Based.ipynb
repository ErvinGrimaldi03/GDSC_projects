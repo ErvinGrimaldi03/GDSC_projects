{
  "nbformat": 4,
  "nbformat_minor": 0,
  "metadata": {
    "colab": {
      "provenance": [],
      "gpuType": "T4"
    },
    "kernelspec": {
      "name": "python3",
      "display_name": "Python 3"
    },
    "language_info": {
      "name": "python"
    },
    "accelerator": "GPU"
  },
  "cells": [
    {
      "cell_type": "code",
      "source": [
        "import pandas as pd\n",
        "from sklearn.feature_extraction.text import TfidfVectorizer\n",
        "from sklearn.metrics.pairwise import linear_kernel"
      ],
      "metadata": {
        "id": "ZwQns48emY00"
      },
      "execution_count": null,
      "outputs": []
    },
    {
      "cell_type": "markdown",
      "source": [
        "Now we have to import our dataset"
      ],
      "metadata": {
        "id": "dibUT7dLmu0m"
      }
    },
    {
      "cell_type": "code",
      "source": [
        "movies = pd.read_csv('movies.csv')\n",
        "\n",
        "#let's see what is our dataset like\n",
        "print(movies)\n",
        "print(\"titles:\\n\", movies[\"title\"])"
      ],
      "metadata": {
        "colab": {
          "base_uri": "https://localhost:8080/"
        },
        "id": "CuUg3HLkmkmS",
        "outputId": "060ba3e7-8853-4a5c-c578-7b147c42c1f8"
      },
      "execution_count": null,
      "outputs": [
        {
          "output_type": "stream",
          "name": "stdout",
          "text": [
            "       movieId                               title  \\\n",
            "0            1                    Toy Story (1995)   \n",
            "1            2                      Jumanji (1995)   \n",
            "2            3             Grumpier Old Men (1995)   \n",
            "3            4            Waiting to Exhale (1995)   \n",
            "4            5  Father of the Bride Part II (1995)   \n",
            "...        ...                                 ...   \n",
            "62418   209157                           We (2018)   \n",
            "62419   209159           Window of the Soul (2001)   \n",
            "62420   209163                    Bad Poems (2018)   \n",
            "62421   209169                 A Girl Thing (2001)   \n",
            "62422   209171      Women of Devil's Island (1962)   \n",
            "\n",
            "                                            genres  \n",
            "0      Adventure|Animation|Children|Comedy|Fantasy  \n",
            "1                       Adventure|Children|Fantasy  \n",
            "2                                   Comedy|Romance  \n",
            "3                             Comedy|Drama|Romance  \n",
            "4                                           Comedy  \n",
            "...                                            ...  \n",
            "62418                                        Drama  \n",
            "62419                                  Documentary  \n",
            "62420                                 Comedy|Drama  \n",
            "62421                           (no genres listed)  \n",
            "62422                       Action|Adventure|Drama  \n",
            "\n",
            "[62423 rows x 3 columns]\n",
            "titles:\n",
            " 0                          Toy Story (1995)\n",
            "1                            Jumanji (1995)\n",
            "2                   Grumpier Old Men (1995)\n",
            "3                  Waiting to Exhale (1995)\n",
            "4        Father of the Bride Part II (1995)\n",
            "                        ...                \n",
            "62418                             We (2018)\n",
            "62419             Window of the Soul (2001)\n",
            "62420                      Bad Poems (2018)\n",
            "62421                   A Girl Thing (2001)\n",
            "62422        Women of Devil's Island (1962)\n",
            "Name: title, Length: 62423, dtype: object\n"
          ]
        }
      ]
    },
    {
      "cell_type": "markdown",
      "source": [
        "Some good ol' string sanitation"
      ],
      "metadata": {
        "id": "h2FlmUNkuBUO"
      }
    },
    {
      "cell_type": "code",
      "source": [
        "movies['combined_genres'] = movies['genres'].str.replace('|', ' ')\n",
        "print(movies['combined_genres'])"
      ],
      "metadata": {
        "colab": {
          "base_uri": "https://localhost:8080/"
        },
        "id": "fK07S9VPuBtz",
        "outputId": "8c48ee16-b0bd-4f92-de4d-f3404de04735"
      },
      "execution_count": null,
      "outputs": [
        {
          "output_type": "stream",
          "name": "stdout",
          "text": [
            "0        Adventure Animation Children Comedy Fantasy\n",
            "1                         Adventure Children Fantasy\n",
            "2                                     Comedy Romance\n",
            "3                               Comedy Drama Romance\n",
            "4                                             Comedy\n",
            "                            ...                     \n",
            "62418                                          Drama\n",
            "62419                                    Documentary\n",
            "62420                                   Comedy Drama\n",
            "62421                             (no genres listed)\n",
            "62422                         Action Adventure Drama\n",
            "Name: combined_genres, Length: 62423, dtype: object\n"
          ]
        },
        {
          "output_type": "stream",
          "name": "stderr",
          "text": [
            "<ipython-input-5-360964f7ed75>:1: FutureWarning: The default value of regex will change from True to False in a future version. In addition, single character regular expressions will *not* be treated as literal strings when regex=True.\n",
            "  movies['combined_genres'] = movies['genres'].str.replace('|', ' ')\n"
          ]
        }
      ]
    },
    {
      "cell_type": "markdown",
      "source": [
        "we have to construct the TF-IDF matrix.\n",
        "\n",
        "\n",
        "*   TF-IDF matrix. TF: Term-Frequency #term / #terms_in_file\n",
        "*   IDF: Inverse Document-Frequency        #total_documents / #documents_containing_term\n",
        "\n",
        "\n",
        "We are ranking how important a tag is\n",
        "\n"
      ],
      "metadata": {
        "id": "3qytB5W3wGES"
      }
    },
    {
      "cell_type": "code",
      "source": [
        "tfidf = TfidfVectorizer(stop_words='english')\n",
        "tfidf_matrix = tfidf.fit_transform(movies['combined_genres'])\n",
        "print(tfidf_matrix)"
      ],
      "metadata": {
        "colab": {
          "base_uri": "https://localhost:8080/"
        },
        "id": "Pg5VErlwwGpx",
        "outputId": "40f70597-32a3-4868-e89a-7f2f63e81bc7"
      },
      "execution_count": null,
      "outputs": [
        {
          "output_type": "stream",
          "name": "stdout",
          "text": [
            "  (0, 8)\t0.49674837028452556\n",
            "  (0, 4)\t0.27771718920269134\n",
            "  (0, 3)\t0.48808437174545455\n",
            "  (0, 2)\t0.48833048769293214\n",
            "  (0, 1)\t0.44656600888161224\n",
            "  (1, 8)\t0.600453511519303\n",
            "  (1, 3)\t0.5899807477262311\n",
            "  (1, 1)\t0.5397946811673262\n",
            "  (2, 18)\t0.8011493881971549\n",
            "  (2, 4)\t0.5984644164788115\n",
            "  (3, 7)\t0.44022013245613556\n",
            "  (3, 18)\t0.7193439273049612\n",
            "  (3, 4)\t0.5373551425545094\n",
            "  (4, 4)\t1.0\n",
            "  (5, 20)\t0.5370772735955626\n",
            "  (5, 5)\t0.6249107985241872\n",
            "  (5, 0)\t0.5665990611314317\n",
            "  (6, 18)\t0.8011493881971549\n",
            "  (6, 4)\t0.5984644164788115\n",
            "  (7, 3)\t0.7377898038839786\n",
            "  (7, 1)\t0.6750305217431583\n",
            "  (8, 0)\t1.0\n",
            "  (9, 20)\t0.5220827968697404\n",
            "  (9, 0)\t0.5507803757155867\n",
            "  (9, 1)\t0.6512069801063765\n",
            "  :\t:\n",
            "  (62408, 8)\t0.7710287903218748\n",
            "  (62409, 22)\t1.0\n",
            "  (62410, 7)\t1.0\n",
            "  (62411, 4)\t1.0\n",
            "  (62412, 6)\t0.6432580604344854\n",
            "  (62412, 2)\t0.7656494417721884\n",
            "  (62413, 7)\t1.0\n",
            "  (62414, 12)\t0.6946781180206175\n",
            "  (62414, 5)\t0.7193207298162155\n",
            "  (62415, 14)\t0.7071067811865475\n",
            "  (62415, 11)\t0.7071067811865475\n",
            "  (62416, 7)\t0.6337256693107506\n",
            "  (62416, 4)\t0.7735578685894426\n",
            "  (62417, 0)\t0.6312548365135414\n",
            "  (62417, 18)\t0.6213518245054673\n",
            "  (62417, 4)\t0.46415432946595364\n",
            "  (62418, 7)\t1.0\n",
            "  (62419, 6)\t1.0\n",
            "  (62420, 7)\t0.6337256693107506\n",
            "  (62420, 4)\t0.7735578685894426\n",
            "  (62421, 14)\t0.7071067811865475\n",
            "  (62421, 11)\t0.7071067811865475\n",
            "  (62422, 0)\t0.6018452421788043\n",
            "  (62422, 7)\t0.36253589207745146\n",
            "  (62422, 1)\t0.7115827649840479\n"
          ]
        }
      ]
    },
    {
      "cell_type": "markdown",
      "source": [
        "It's time to get the recommendations"
      ],
      "metadata": {
        "id": "KgapUtoj1Vwk"
      }
    },
    {
      "cell_type": "code",
      "source": [
        "from sklearn.metrics.pairwise import cosine_similarity\n",
        "\n",
        "def get_recommendations_on_demand(title, tfidf_matrix, movies_df, top_n=25):\n",
        "    # Find the index of the movie that matches the title\n",
        "    idx = movies_df.index[movies_df['title'] == title].tolist()[0]\n",
        "\n",
        "    # Compute cosine similarity between this movie and all others\n",
        "    cosine_similarities = cosine_similarity(tfidf_matrix[idx], tfidf_matrix).flatten()\n",
        "\n",
        "    # Get top N similar movie indices\n",
        "    similar_indices = cosine_similarities.argsort()[:-top_n-1:-1]\n",
        "\n",
        "    # Exclude the first element (self-comparison)\n",
        "    return movies_df['title'].iloc[similar_indices[1:]]"
      ],
      "metadata": {
        "id": "a7S3VVyC2saz"
      },
      "execution_count": null,
      "outputs": []
    },
    {
      "cell_type": "code",
      "source": [
        "# Example usage\n",
        "movie_title = \"Godfather, The (1972)\"\n",
        "recommendations = get_recommendations_on_demand(movie_title, tfidf_matrix, movies)\n",
        "print(recommendations)\n"
      ],
      "metadata": {
        "colab": {
          "base_uri": "https://localhost:8080/"
        },
        "id": "SKrE5wC225Br",
        "outputId": "00a6efe2-05e4-4e09-ff02-28291da085ea"
      },
      "execution_count": null,
      "outputs": [
        {
          "output_type": "stream",
          "name": "stdout",
          "text": [
            "37377                        Wild Rebels (1967)\n",
            "46693                     Deadly Weapons (1974)\n",
            "37380                        Son of Mine (2015)\n",
            "1726                 Fireworks (Hana-bi) (1997)\n",
            "21180                            Satanas (2007)\n",
            "1722                    Newton Boys, The (1998)\n",
            "37387                    New York Nights (1929)\n",
            "27138                  No One Would Tell (1996)\n",
            "21164                               11.6 (2013)\n",
            "12022                           Longford (2006)\n",
            "13717              Detective (Détective) (1985)\n",
            "6068                               Q & A (1990)\n",
            "27152          Processo per direttissima (1976)\n",
            "10313         Good Night, and Good Luck. (2005)\n",
            "1691            Letter From Death Row, A (1998)\n",
            "52153               Crime of the Century (1996)\n",
            "46736            Code Name: Diamond Head (1977)\n",
            "39766          L'Homme aux Yeux d'Argent (1985)\n",
            "46672                    Willie Dynamite (1974)\n",
            "15866                              Manon (1949)\n",
            "11988    Swimming Pool, The (La piscine) (1969)\n",
            "30349                         Black Mass (2015)\n",
            "21372                    Blondie Johnson (1933)\n",
            "5899                           Wisegirls (2002)\n",
            "Name: title, dtype: object\n"
          ]
        }
      ]
    }
  ]
}